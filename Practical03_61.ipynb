{
 "cells": [
  {
   "cell_type": "code",
   "execution_count": null,
   "id": "4a5ceef2",
   "metadata": {},
   "outputs": [],
   "source": [
    "#experiment  no. :4"
   ]
  },
  {
   "cell_type": "code",
   "execution_count": 5,
   "id": "bb95b13a",
   "metadata": {},
   "outputs": [],
   "source": [
    "#Aim:To perform and analysis of Z Test parametric Test"
   ]
  },
  {
   "cell_type": "code",
   "execution_count": null,
   "id": "c288ad56",
   "metadata": {},
   "outputs": [],
   "source": [
    "#Name:Tejaswini Gajanan Khade\n",
    "#RollNo.:61\n",
    "#sec.:3A\n",
    "#subject:ET 2"
   ]
  },
  {
   "cell_type": "code",
   "execution_count": 7,
   "id": "81047a61",
   "metadata": {},
   "outputs": [
    {
     "name": "stdout",
     "output_type": "stream",
     "text": [
      "2.417334226169332e-186\n",
      "We can reject the null hypothesis\n"
     ]
    }
   ],
   "source": [
    "# Python program to implement One Sample Z-Test\n",
    "# Importing the required libraries\n",
    "import pandas as pd\n",
    "from scipy import stats\n",
    "from statsmodels.stats import weightstats as stests\n",
    "# Creating a dataset\n",
    "data = [89, 93, 95, 93, 97, 98, 96, 99, 93, 97,\n",
    "110, 104, 119, 105, 104, 110, 110, 112, 115, 114]\n",
    "# Performing the z-test\n",
    "z_test ,p_val = stests.ztest(data, x2 = None, value = 160)\n",
    "print(p_val)\n",
    "# taking the threshold value as 0.05 or 5%\n",
    "if p_val < 0.05:\n",
    "    print(\"We can reject the null hypothesis\")\n",
    "else:\n",
    "    print(\"We can accept the null hypothesis\")"
   ]
  },
  {
   "cell_type": "code",
   "execution_count": null,
   "id": "d924ce14",
   "metadata": {},
   "outputs": [],
   "source": []
  },
  {
   "cell_type": "code",
   "execution_count": null,
   "id": "651a0c76",
   "metadata": {},
   "outputs": [],
   "source": []
  }
 ],
 "metadata": {
  "kernelspec": {
   "display_name": "Python 3 (ipykernel)",
   "language": "python",
   "name": "python3"
  },
  "language_info": {
   "codemirror_mode": {
    "name": "ipython",
    "version": 3
   },
   "file_extension": ".py",
   "mimetype": "text/x-python",
   "name": "python",
   "nbconvert_exporter": "python",
   "pygments_lexer": "ipython3",
   "version": "3.11.5"
  }
 },
 "nbformat": 4,
 "nbformat_minor": 5
}
